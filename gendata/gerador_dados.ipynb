{
 "cells": [
  {
   "cell_type": "code",
   "execution_count": 1,
   "metadata": {},
   "outputs": [],
   "source": [
    "import numpy as np\n",
    "import pandas as pd\n",
    "import os\n",
    "os.makedirs(\"casos_de_teste\", exist_ok=True)\n"
   ]
  },
  {
   "cell_type": "code",
   "execution_count": 2,
   "metadata": {},
   "outputs": [],
   "source": [
    "import random\n",
    "import csv\n",
    "# GERADOR de links\n",
    "def gen_links(num_modules, total_links, costmin, costmax):\n",
    "    all_links = []\n",
    "    for i in range( 2, num_modules+2 ):\n",
    "        for j in range( i+1, num_modules+2 ):\n",
    "            all_links.append((i, j))\n",
    "    selected_links = random.sample(all_links, total_links)\n",
    "    links = []\n",
    "    for link in selected_links:\n",
    "        i, j = link\n",
    "        weight = np.random.randint(low=costmin, high=costmax)\n",
    "        links.append((i, j, weight))\n",
    "    return links\n",
    "\n",
    "def write_links(filename, links):\n",
    "    with open(filename, \"w\") as f:\n",
    "        writer = csv.writer(f)\n",
    "        for link in links:\n",
    "            writer.writerow(link)\n",
    "            \n",
    "def links_tests(num_modules, low, high):\n",
    "    tests = []\n",
    "    highlinks = (num_modules+1)//2\n",
    "    ## muitos links e alto custo\n",
    "    total_links = np.random.randint(low=int(0.5*highlinks), high=highlinks)\n",
    "    costmin = (0.5*high)\n",
    "    costmax = (1.5*high)\n",
    "    tests.append(gen_links(num_modules, total_links, costmin, costmax))\n",
    "    ## poucos links e alto custo\n",
    "    total_links = np.random.randint(low=0, high=int(0.5*highlinks))\n",
    "    costmin = (0.5*high)\n",
    "    costmax = (1.5*high)\n",
    "    tests.append(gen_links(num_modules, total_links, costmin, costmax))\n",
    "    ## muitos links e baixo custo\n",
    "    total_links = np.random.randint(low=int(0.5*highlinks), high=highlinks)\n",
    "    costmin = (0.5*low)\n",
    "    costmax = (0.5*high)\n",
    "    tests.append(gen_links(num_modules, total_links, costmin, costmax))\n",
    "    ## poucos links e baixo custo\n",
    "    total_links = np.random.randint(low=0, high=int(0.5*highlinks))\n",
    "    costmin = (0.5*low)\n",
    "    costmax = (0.5*high)\n",
    "    tests.append(gen_links(num_modules, total_links, costmin, costmax))\n",
    "    ## custos e quantidade variados\n",
    "    total_links = np.random.randint(low=0, high=highlinks)\n",
    "    tests.append(gen_links(num_modules, total_links, low, high))\n",
    "    return tests\n",
    "            "
   ]
  },
  {
   "cell_type": "code",
   "execution_count": 3,
   "metadata": {},
   "outputs": [],
   "source": [
    "# Modulos que rodam bem em um processador, rodam mal em outro\n",
    "# todo: atualizar\n",
    "for c in range(0, 2):\n",
    "    num_modules = np.random.randint(low=3, high=50)\n",
    "    modules_p1 = np.random.randint(low=1, high=10, size=(num_modules,))\n",
    "    modules_p2 = (np.random.randint(low=1, high=10, size=(num_modules,))*(2 - 2*modules_p1/10)).astype(int)\n",
    "    modules_p1 = [number if number <= 7 else -1 for number in modules_p1]\n",
    "    modules_p2 = [number if number <= 7 else -1 for number in modules_p2]\n",
    "    df = pd.DataFrame(data={\"P1\": modules_p1, \"P2\": modules_p2})\n",
    "    df[df[\"P1\"] + df[\"P2\"] != -2] \n",
    "    df.to_csv(f\"casos_de_teste/casoum_{c}.csv\", index=False, header=False)\n",
    "    # Gerar links\n",
    "    for i in range(2):\n",
    "        tests = links_tests(num_modules, 0, 10)\n",
    "        for t, links in enumerate(tests):\n",
    "             write_links(f\"casos_de_teste/casoum_{c}_links_{t}_{i}.csv\", links)\n"
   ]
  },
  {
   "cell_type": "code",
   "execution_count": 4,
   "metadata": {},
   "outputs": [],
   "source": [
    "# Modulos só rodam em um processador\n",
    "for c in range(0, 2):\n",
    "    num_modules = np.random.randint(low=3, high=50)\n",
    "    modules_p1 = np.random.randint(low=1, high=7, size=(num_modules,))\n",
    "    modules_p2 = (np.random.randint(low=1, high=7, size=(num_modules,))*(2 - 2*modules_p1/10)).astype(int)\n",
    "    modules_p1 = [number if idx % 2 == 0 else -1 for idx, number in enumerate(modules_p1)]\n",
    "    modules_p2 = [number if idx % 2 != 0 else -1 for idx, number in enumerate(modules_p2)]\n",
    "    df = pd.DataFrame(data={\"P1\": modules_p1, \"P2\": modules_p2})\n",
    "    df.to_csv(f\"casos_de_teste/casodois_{c}.csv\", index=False, header=False)\n",
    "    # Gerar links\n",
    "    for i in range(2):\n",
    "        tests = links_tests(num_modules, 0, 10)\n",
    "        for t, links in enumerate(tests):\n",
    "             write_links(f\"casos_de_teste/casodois_{c}_links_{t}_{i}.csv\", links)"
   ]
  },
  {
   "cell_type": "code",
   "execution_count": 5,
   "metadata": {},
   "outputs": [],
   "source": [
    "# Metade dos módulos rodam em um processador\n",
    "for c in range(0, 2):\n",
    "    num_modules = np.random.randint(low=3, high=50)\n",
    "    modules_p1 = np.random.randint(low=1, high=7, size=(num_modules,))\n",
    "    modules_p2 = (np.random.randint(low=1, high=7, size=(num_modules,))*(2 - 2*modules_p1/10)).astype(int)\n",
    "    modules_p1 = [number if (idx-1) % 4 != 0 else -1 for idx, number in enumerate(modules_p1)]\n",
    "    modules_p2 = [number if (idx) % 4 != 0 else -1 for idx, number in enumerate(modules_p2)]\n",
    "    df = pd.DataFrame(data={\"P1\": modules_p1, \"P2\": modules_p2})\n",
    "    df.to_csv(f\"casos_de_teste/casotres_{c}.csv\", index=False, header=False)\n",
    "    # Gerar links\n",
    "    for i in range(2):\n",
    "        tests = links_tests(num_modules, 0, 10)\n",
    "        for t, links in enumerate(tests):\n",
    "             write_links(f\"casos_de_teste/casotres_{c}_links_{t}_{i}.csv\", links)"
   ]
  },
  {
   "cell_type": "code",
   "execution_count": 6,
   "metadata": {},
   "outputs": [],
   "source": [
    "# Modulos com tempos abirtrarios\n",
    "for c in range(0, 2):\n",
    "    num_modules = np.random.randint(low=3, high=50)\n",
    "    modules_p1 = np.random.randint(low=1, high=10, size=(num_modules,))\n",
    "    modules_p2 = np.random.randint(low=1, high=10, size=(num_modules,))\n",
    "    modules_p1 = [number if number <= 7 else -1 for number in modules_p1]\n",
    "    modules_p2 = [number if number <= 7 else -1 for number in modules_p2]\n",
    "    df = pd.DataFrame(data={\"P1\": modules_p1, \"P2\": modules_p2})\n",
    "    df = df[df[\"P1\"] + df[\"P2\"] != -2] \n",
    "    df.to_csv(f\"casos_de_teste/casoquatro_{c}.csv\", index=False, header=False)\n",
    "    # Gerar links\n",
    "    for i in range(2):\n",
    "        tests = links_tests(num_modules, 0, 10)\n",
    "        for t, links in enumerate(tests):\n",
    "             write_links(f\"casos_de_teste/casoquatro_{c}_links_{t}_{i}.csv\", links)"
   ]
  },
  {
   "cell_type": "code",
   "execution_count": 7,
   "metadata": {},
   "outputs": [],
   "source": [
    "# Modulos com tempos abirtrarios e muitos infinitos\n",
    "for c in range(0, 2):\n",
    "    num_modules = np.random.randint(low=20, high=60)\n",
    "    modules_p1 = np.random.randint(low=1, high=10, size=(num_modules,))\n",
    "    modules_p2 = np.random.randint(low=1, high=10, size=(num_modules,))\n",
    "    modules_p1 = [number if number < 6 else -1 for number in modules_p1]\n",
    "    modules_p2 = [number if number < 6 else -1 for number in modules_p2]\n",
    "    df = pd.DataFrame(data={\"P1\": modules_p1, \"P2\": modules_p2})\n",
    "    df = df[df[\"P1\"] + df[\"P2\"] != -2] \n",
    "    df.to_csv(f\"casos_de_teste/casocinco_{c}.csv\", index=False, header=False)\n",
    "    # Gerar links\n",
    "    for i in range(2):\n",
    "        tests = links_tests(num_modules, 0, 10)\n",
    "        for t, links in enumerate(tests):\n",
    "             write_links(f\"casos_de_teste/casocinco_{c}_links_{t}_{i}.csv\", links)"
   ]
  },
  {
   "cell_type": "code",
   "execution_count": 8,
   "metadata": {},
   "outputs": [],
   "source": [
    "# Modulos com tempos abirtrarios e poucos infinitos\n",
    "for c in range(0, 2):\n",
    "    num_modules = np.random.randint(low=3, high=50)\n",
    "    modules_p1 = np.random.randint(low=1, high=10, size=(num_modules,))\n",
    "    modules_p2 = np.random.randint(low=1, high=10, size=(num_modules,))\n",
    "    modules_p1 = [number if number < 9 else -1 for number in modules_p1]\n",
    "    modules_p2 = [number if number < 9 else -1 for number in modules_p2]\n",
    "    df = pd.DataFrame(data={\"P1\": modules_p1, \"P2\": modules_p2})\n",
    "    df = df[df[\"P1\"] - df[\"P2\"] != 0] \n",
    "    df.to_csv(f\"casos_de_teste/casoseis_{c}.csv\", index=False, header=False)\n",
    "    # Gerar links\n",
    "    for i in range(2):\n",
    "        tests = links_tests(num_modules, 0, 10)\n",
    "        for t, links in enumerate(tests):\n",
    "             write_links(f\"casos_de_teste/casoseis_{c}_links_{t}_{i}.csv\", links)"
   ]
  },
  {
   "cell_type": "code",
   "execution_count": null,
   "metadata": {},
   "outputs": [],
   "source": []
  }
 ],
 "metadata": {
  "kernelspec": {
   "display_name": "Python 3",
   "language": "python",
   "name": "python3"
  },
  "language_info": {
   "codemirror_mode": {
    "name": "ipython",
    "version": 3
   },
   "file_extension": ".py",
   "mimetype": "text/x-python",
   "name": "python",
   "nbconvert_exporter": "python",
   "pygments_lexer": "ipython3",
   "version": "3.6.8"
  }
 },
 "nbformat": 4,
 "nbformat_minor": 2
}
