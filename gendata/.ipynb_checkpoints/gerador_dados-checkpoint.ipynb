{
 "cells": [
  {
   "cell_type": "code",
   "execution_count": 8,
   "metadata": {},
   "outputs": [],
   "source": [
    "import numpy as np\n",
    "import pandas as pd\n"
   ]
  },
  {
   "cell_type": "code",
   "execution_count": 47,
   "metadata": {},
   "outputs": [
    {
     "ename": "SyntaxError",
     "evalue": "invalid syntax (<ipython-input-47-a178d527e87b>, line 19)",
     "output_type": "error",
     "traceback": [
      "\u001b[0;36m  File \u001b[0;32m\"<ipython-input-47-a178d527e87b>\"\u001b[0;36m, line \u001b[0;32m19\u001b[0m\n\u001b[0;31m    num_intermodules[]\u001b[0m\n\u001b[0m                     ^\u001b[0m\n\u001b[0;31mSyntaxError\u001b[0m\u001b[0;31m:\u001b[0m invalid syntax\n"
     ]
    }
   ],
   "source": [
    "# Modulos que rodam bem em um processador, rodam mal em outro\n",
    "for c in range(0, 1):\n",
    "    num_modules = np.random.randint(low=10, high=50)\n",
    "    modules_p1 = np.random.rand(num_modules)\n",
    "    modules_p2 = np.random.rand(num_modules)*(1-modules_p1)\n",
    "    modules_p1 *= 10\n",
    "    modules_p2 *= 10\n",
    "    modules_p1 = [number if number < 7 else -1 for number in modules_p1]\n",
    "    modules_p2 = [number if number < 7 else -1 for number in modules_p2]\n",
    "    df = pd.DataFrame(data={\"P1\": modules_p1, \"P2\": modules_p2})\n",
    "    df[df[\"P1\"] - df[\"P2\"] != 0] \n",
    "    df.to_csv(f\"casos_de_teste/casoum_{c}\", index=False, header=False)\n",
    "    # Gerar dependencias \n",
    "    num_intermodules = np.random.randint(low=10, high=50)\n",
    "    print(gen_intermodules(num_intermodules,0, 0.5, low, high))\n",
    "    "
   ]
  },
  {
   "cell_type": "code",
   "execution_count": 3,
   "metadata": {},
   "outputs": [],
   "source": [
    "# Modulos só rodam em um processador\n",
    "for c in range(0, 50):\n",
    "    num_modules = np.random.randint(low=10, high=50)\n",
    "    modules_p1 = np.random.uniform(high=0.7, size=(num_modules,))\n",
    "    modules_p2 = np.random.uniform(high=0.7, size=(num_modules,))*(1-modules_p1)\n",
    "    modules_p1 *= 10\n",
    "    modules_p2 *= 10\n",
    "    modules_p1 = [number if idx % 2 == 0 else -1 for idx, number in enumerate(modules_p1)]\n",
    "    modules_p2 = [number if idx % 2 != 0 else -1 for idx, number in enumerate(modules_p2)]\n",
    "    df = pd.DataFrame(data={\"P1\": modules_p1, \"P2\": modules_p2})\n",
    "    df.to_csv(f\"casos_de_teste/casodois_{c}\", index=False, header=False)"
   ]
  },
  {
   "cell_type": "code",
   "execution_count": 4,
   "metadata": {},
   "outputs": [],
   "source": [
    "# Metade dos módulos rodam em um processador\n",
    "for c in range(0, 50):\n",
    "    num_modules = np.random.randint(low=10, high=50)\n",
    "    modules_p1 = np.random.uniform(high=0.7, size=(num_modules,))\n",
    "    modules_p2 = np.random.uniform(high=0.7, size=(num_modules,))*(1-modules_p1)\n",
    "    modules_p1 *= 10\n",
    "    modules_p2 *= 10\n",
    "    modules_p1 = [number if (idx-1) % 4 != 0 else -1 for idx, number in enumerate(modules_p1)]\n",
    "    modules_p2 = [number if (idx) % 4 != 0 else -1 for idx, number in enumerate(modules_p2)]\n",
    "    df = pd.DataFrame(data={\"P1\": modules_p1, \"P2\": modules_p2})\n",
    "    df.to_csv(f\"casos_de_teste/casotres_{c}\", index=False, header=False)"
   ]
  },
  {
   "cell_type": "code",
   "execution_count": 5,
   "metadata": {},
   "outputs": [],
   "source": [
    "# Modulos com tempos abirtrarios\n",
    "for c in range(0, 50):\n",
    "    num_modules = np.random.randint(low=10, high=50)\n",
    "    modules_p1 = np.random.rand(num_modules)\n",
    "    modules_p2 = np.random.rand(num_modules)\n",
    "    modules_p1 *= 10\n",
    "    modules_p2 *= 10\n",
    "    modules_p1 = [number if number < 7 else -1 for number in modules_p1]\n",
    "    modules_p2 = [number if number < 7 else -1 for number in modules_p2]\n",
    "    df = pd.DataFrame(data={\"P1\": modules_p1, \"P2\": modules_p2})\n",
    "    df = df[df[\"P1\"] - df[\"P2\"] != 0] \n",
    "    df.to_csv(f\"casos_de_teste/casoquatro_{c}\", index=False, header=False)"
   ]
  },
  {
   "cell_type": "code",
   "execution_count": 6,
   "metadata": {},
   "outputs": [],
   "source": [
    "# Modulos com tempos abirtrarios e muitos infinitos\n",
    "for c in range(0, 50):\n",
    "    num_modules = np.random.randint(low=20, high=60)\n",
    "    modules_p1 = np.random.rand(num_modules)\n",
    "    modules_p2 = np.random.rand(num_modules)\n",
    "    modules_p1 *= 10\n",
    "    modules_p2 *= 10\n",
    "    modules_p1 = [number if number < 6 else -1 for number in modules_p1]\n",
    "    modules_p2 = [number if number < 6 else -1 for number in modules_p2]\n",
    "    df = pd.DataFrame(data={\"P1\": modules_p1, \"P2\": modules_p2})\n",
    "    df = df[df[\"P1\"] - df[\"P2\"] != 0] \n",
    "    df.to_csv(f\"casos_de_teste/casocinco_{c}\", index=False, header=False)"
   ]
  },
  {
   "cell_type": "code",
   "execution_count": 7,
   "metadata": {},
   "outputs": [],
   "source": [
    "# Modulos com tempos abirtrarios e poucos infinitos\n",
    "for c in range(0, 50):\n",
    "    num_modules = np.random.randint(low=10, high=50)\n",
    "    modules_p1 = np.random.rand(num_modules)\n",
    "    modules_p2 = np.random.rand(num_modules)\n",
    "    modules_p1 *= 10\n",
    "    modules_p2 *= 10\n",
    "    modules_p1 = [number if number < 8 else -1 for number in modules_p1]\n",
    "    modules_p2 = [number if number < 8 else -1 for number in modules_p2]\n",
    "    df = pd.DataFrame(data={\"P1\": modules_p1, \"P2\": modules_p2})\n",
    "    df = df[df[\"P1\"] - df[\"P2\"] != 0] \n",
    "    df.to_csv(f\"casos_de_teste/casoseis_{c}\", index=False, header=False)"
   ]
  },
  {
   "cell_type": "code",
   "execution_count": 48,
   "metadata": {},
   "outputs": [],
   "source": [
    "# GERADOR de aresta de dependencia\n",
    "\n",
    "# todo: gerar os dados de intermodule para cada vertice baseado no comprimento máximo estabelecido\n",
    "def gen_intermodules(num_intermodules,relmin, relmax, low, high):\n",
    "    intermodules = []\n",
    "    for n in range(num_intermodules):\n",
    "        relhigh = int(num_intermodules*relmax)\n",
    "        rellow = int(num_intermodules*relmin)\n",
    "        module_a = np.random.randint(low=rellow, high=num_intermodules)\n",
    "        module_b = np.random.randint(low=rellow, high=relhigh-1)\n",
    "        value = np.random.randint(low=low, high=high)\n",
    "        if(module_b >= module_a):\n",
    "            module_b += 1\n",
    "        intermodules.append((module_a,module_b, value))\n",
    "    return intermodules\n",
    "def write_intermodules(filename):"
   ]
  },
  {
   "cell_type": "code",
   "execution_count": null,
   "metadata": {},
   "outputs": [],
   "source": []
  }
 ],
 "metadata": {
  "kernelspec": {
   "display_name": "Python 3",
   "language": "python",
   "name": "python3"
  },
  "language_info": {
   "codemirror_mode": {
    "name": "ipython",
    "version": 3
   },
   "file_extension": ".py",
   "mimetype": "text/x-python",
   "name": "python",
   "nbconvert_exporter": "python",
   "pygments_lexer": "ipython3",
   "version": "3.7.1"
  }
 },
 "nbformat": 4,
 "nbformat_minor": 2
}
